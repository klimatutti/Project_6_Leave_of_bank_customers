{
 "cells": [
  {
   "cell_type": "markdown",
   "id": "e94ee168",
   "metadata": {},
   "source": [
    "# Отток клиентов"
   ]
  },
  {
   "cell_type": "markdown",
   "id": "610d10f6",
   "metadata": {},
   "source": [
    "Из «Бета-Банка» стали уходить клиенты. Каждый месяц. Немного, но заметно. Банковские маркетологи посчитали: сохранять текущих клиентов дешевле, чем привлекать новых.\n",
    "\n",
    "Нужно спрогнозировать, уйдёт клиент из банка в ближайшее время или нет. Вам предоставлены исторические данные о поведении клиентов и расторжении договоров с банком. \n",
    "\n",
    "Постройте модель с предельно большим значением *F1*-меры. "
   ]
  },
  {
   "cell_type": "markdown",
   "id": "5a5677ad",
   "metadata": {},
   "source": [
    "Сначала мы подготовим данные: рассмотрим общую информацию о датафрейме и пропуски в нем. В исследовании задачи рассмотрим насколько сбалансированы классы, преобразуем категориальные признаки в численные с помощью техники прямого кодирования, затем обойдем дамми-ловушку, отмасштабируем признаки и попробуем обучить модель без баланса классов. \n",
    "\n",
    "В следующем блоке испробуем несколько способов балансировки классов и протестируем разные модели для того, чтобы добиться наилучшего значения F1-меры. Выберем лучшую модель и применим её к тестовой выборке."
   ]
  },
  {
   "cell_type": "markdown",
   "id": "d8b5b975",
   "metadata": {},
   "source": [
    "## Подготовка данных"
   ]
  },
  {
   "cell_type": "markdown",
   "id": "e1304b11",
   "metadata": {},
   "source": [
    "Подгрузим нужные инструменты и наш датасет."
   ]
  },
  {
   "cell_type": "code",
   "execution_count": 1,
   "id": "5844eb75",
   "metadata": {},
   "outputs": [],
   "source": [
    "import pandas as pd\n",
    "from sklearn.tree import DecisionTreeClassifier\n",
    "from sklearn.metrics import accuracy_score\n",
    "from sklearn.metrics import precision_score\n",
    "from sklearn.metrics import recall_score\n",
    "from sklearn.metrics import f1_score\n",
    "from sklearn.model_selection import train_test_split\n",
    "from sklearn.ensemble import RandomForestClassifier\n",
    "from sklearn.linear_model import LogisticRegression \n",
    "import seaborn\n",
    "import random\n",
    "from sklearn import tree\n",
    "import matplotlib.pyplot as plt\n",
    "from sklearn.preprocessing import StandardScaler\n",
    "from sklearn.metrics import confusion_matrix\n",
    "from sklearn.utils import shuffle\n",
    "import numpy as np\n",
    "from sklearn.metrics import roc_curve\n",
    "from sklearn.metrics import roc_auc_score"
   ]
  },
  {
   "cell_type": "code",
   "execution_count": 2,
   "id": "c93bd1e4",
   "metadata": {},
   "outputs": [],
   "source": [
    "try:\n",
    "    data = pd.read_csv('C:/Users/klimatutti/Downloads/Churn.csv')\n",
    "except:\n",
    "    data = pd.read_csv('/datasets/Churn.csv')"
   ]
  },
  {
   "cell_type": "markdown",
   "id": "e63409ae",
   "metadata": {},
   "source": [
    "**Изучим первые строки датафрейма и общую информацию о нем**"
   ]
  },
  {
   "cell_type": "code",
   "execution_count": 3,
   "id": "66345f30",
   "metadata": {},
   "outputs": [
    {
     "data": {
      "text/html": [
       "<div>\n",
       "<style scoped>\n",
       "    .dataframe tbody tr th:only-of-type {\n",
       "        vertical-align: middle;\n",
       "    }\n",
       "\n",
       "    .dataframe tbody tr th {\n",
       "        vertical-align: top;\n",
       "    }\n",
       "\n",
       "    .dataframe thead th {\n",
       "        text-align: right;\n",
       "    }\n",
       "</style>\n",
       "<table border=\"1\" class=\"dataframe\">\n",
       "  <thead>\n",
       "    <tr style=\"text-align: right;\">\n",
       "      <th></th>\n",
       "      <th>RowNumber</th>\n",
       "      <th>CustomerId</th>\n",
       "      <th>Surname</th>\n",
       "      <th>CreditScore</th>\n",
       "      <th>Geography</th>\n",
       "      <th>Gender</th>\n",
       "      <th>Age</th>\n",
       "      <th>Tenure</th>\n",
       "      <th>Balance</th>\n",
       "      <th>NumOfProducts</th>\n",
       "      <th>HasCrCard</th>\n",
       "      <th>IsActiveMember</th>\n",
       "      <th>EstimatedSalary</th>\n",
       "      <th>Exited</th>\n",
       "    </tr>\n",
       "  </thead>\n",
       "  <tbody>\n",
       "    <tr>\n",
       "      <th>0</th>\n",
       "      <td>1</td>\n",
       "      <td>15634602</td>\n",
       "      <td>Hargrave</td>\n",
       "      <td>619</td>\n",
       "      <td>France</td>\n",
       "      <td>Female</td>\n",
       "      <td>42</td>\n",
       "      <td>2.0</td>\n",
       "      <td>0.00</td>\n",
       "      <td>1</td>\n",
       "      <td>1</td>\n",
       "      <td>1</td>\n",
       "      <td>101348.88</td>\n",
       "      <td>1</td>\n",
       "    </tr>\n",
       "    <tr>\n",
       "      <th>1</th>\n",
       "      <td>2</td>\n",
       "      <td>15647311</td>\n",
       "      <td>Hill</td>\n",
       "      <td>608</td>\n",
       "      <td>Spain</td>\n",
       "      <td>Female</td>\n",
       "      <td>41</td>\n",
       "      <td>1.0</td>\n",
       "      <td>83807.86</td>\n",
       "      <td>1</td>\n",
       "      <td>0</td>\n",
       "      <td>1</td>\n",
       "      <td>112542.58</td>\n",
       "      <td>0</td>\n",
       "    </tr>\n",
       "    <tr>\n",
       "      <th>2</th>\n",
       "      <td>3</td>\n",
       "      <td>15619304</td>\n",
       "      <td>Onio</td>\n",
       "      <td>502</td>\n",
       "      <td>France</td>\n",
       "      <td>Female</td>\n",
       "      <td>42</td>\n",
       "      <td>8.0</td>\n",
       "      <td>159660.80</td>\n",
       "      <td>3</td>\n",
       "      <td>1</td>\n",
       "      <td>0</td>\n",
       "      <td>113931.57</td>\n",
       "      <td>1</td>\n",
       "    </tr>\n",
       "    <tr>\n",
       "      <th>3</th>\n",
       "      <td>4</td>\n",
       "      <td>15701354</td>\n",
       "      <td>Boni</td>\n",
       "      <td>699</td>\n",
       "      <td>France</td>\n",
       "      <td>Female</td>\n",
       "      <td>39</td>\n",
       "      <td>1.0</td>\n",
       "      <td>0.00</td>\n",
       "      <td>2</td>\n",
       "      <td>0</td>\n",
       "      <td>0</td>\n",
       "      <td>93826.63</td>\n",
       "      <td>0</td>\n",
       "    </tr>\n",
       "    <tr>\n",
       "      <th>4</th>\n",
       "      <td>5</td>\n",
       "      <td>15737888</td>\n",
       "      <td>Mitchell</td>\n",
       "      <td>850</td>\n",
       "      <td>Spain</td>\n",
       "      <td>Female</td>\n",
       "      <td>43</td>\n",
       "      <td>2.0</td>\n",
       "      <td>125510.82</td>\n",
       "      <td>1</td>\n",
       "      <td>1</td>\n",
       "      <td>1</td>\n",
       "      <td>79084.10</td>\n",
       "      <td>0</td>\n",
       "    </tr>\n",
       "    <tr>\n",
       "      <th>5</th>\n",
       "      <td>6</td>\n",
       "      <td>15574012</td>\n",
       "      <td>Chu</td>\n",
       "      <td>645</td>\n",
       "      <td>Spain</td>\n",
       "      <td>Male</td>\n",
       "      <td>44</td>\n",
       "      <td>8.0</td>\n",
       "      <td>113755.78</td>\n",
       "      <td>2</td>\n",
       "      <td>1</td>\n",
       "      <td>0</td>\n",
       "      <td>149756.71</td>\n",
       "      <td>1</td>\n",
       "    </tr>\n",
       "    <tr>\n",
       "      <th>6</th>\n",
       "      <td>7</td>\n",
       "      <td>15592531</td>\n",
       "      <td>Bartlett</td>\n",
       "      <td>822</td>\n",
       "      <td>France</td>\n",
       "      <td>Male</td>\n",
       "      <td>50</td>\n",
       "      <td>7.0</td>\n",
       "      <td>0.00</td>\n",
       "      <td>2</td>\n",
       "      <td>1</td>\n",
       "      <td>1</td>\n",
       "      <td>10062.80</td>\n",
       "      <td>0</td>\n",
       "    </tr>\n",
       "    <tr>\n",
       "      <th>7</th>\n",
       "      <td>8</td>\n",
       "      <td>15656148</td>\n",
       "      <td>Obinna</td>\n",
       "      <td>376</td>\n",
       "      <td>Germany</td>\n",
       "      <td>Female</td>\n",
       "      <td>29</td>\n",
       "      <td>4.0</td>\n",
       "      <td>115046.74</td>\n",
       "      <td>4</td>\n",
       "      <td>1</td>\n",
       "      <td>0</td>\n",
       "      <td>119346.88</td>\n",
       "      <td>1</td>\n",
       "    </tr>\n",
       "    <tr>\n",
       "      <th>8</th>\n",
       "      <td>9</td>\n",
       "      <td>15792365</td>\n",
       "      <td>He</td>\n",
       "      <td>501</td>\n",
       "      <td>France</td>\n",
       "      <td>Male</td>\n",
       "      <td>44</td>\n",
       "      <td>4.0</td>\n",
       "      <td>142051.07</td>\n",
       "      <td>2</td>\n",
       "      <td>0</td>\n",
       "      <td>1</td>\n",
       "      <td>74940.50</td>\n",
       "      <td>0</td>\n",
       "    </tr>\n",
       "    <tr>\n",
       "      <th>9</th>\n",
       "      <td>10</td>\n",
       "      <td>15592389</td>\n",
       "      <td>H?</td>\n",
       "      <td>684</td>\n",
       "      <td>France</td>\n",
       "      <td>Male</td>\n",
       "      <td>27</td>\n",
       "      <td>2.0</td>\n",
       "      <td>134603.88</td>\n",
       "      <td>1</td>\n",
       "      <td>1</td>\n",
       "      <td>1</td>\n",
       "      <td>71725.73</td>\n",
       "      <td>0</td>\n",
       "    </tr>\n",
       "  </tbody>\n",
       "</table>\n",
       "</div>"
      ],
      "text/plain": [
       "   RowNumber  CustomerId   Surname  CreditScore Geography  Gender  Age  \\\n",
       "0          1    15634602  Hargrave          619    France  Female   42   \n",
       "1          2    15647311      Hill          608     Spain  Female   41   \n",
       "2          3    15619304      Onio          502    France  Female   42   \n",
       "3          4    15701354      Boni          699    France  Female   39   \n",
       "4          5    15737888  Mitchell          850     Spain  Female   43   \n",
       "5          6    15574012       Chu          645     Spain    Male   44   \n",
       "6          7    15592531  Bartlett          822    France    Male   50   \n",
       "7          8    15656148    Obinna          376   Germany  Female   29   \n",
       "8          9    15792365        He          501    France    Male   44   \n",
       "9         10    15592389        H?          684    France    Male   27   \n",
       "\n",
       "   Tenure    Balance  NumOfProducts  HasCrCard  IsActiveMember  \\\n",
       "0     2.0       0.00              1          1               1   \n",
       "1     1.0   83807.86              1          0               1   \n",
       "2     8.0  159660.80              3          1               0   \n",
       "3     1.0       0.00              2          0               0   \n",
       "4     2.0  125510.82              1          1               1   \n",
       "5     8.0  113755.78              2          1               0   \n",
       "6     7.0       0.00              2          1               1   \n",
       "7     4.0  115046.74              4          1               0   \n",
       "8     4.0  142051.07              2          0               1   \n",
       "9     2.0  134603.88              1          1               1   \n",
       "\n",
       "   EstimatedSalary  Exited  \n",
       "0        101348.88       1  \n",
       "1        112542.58       0  \n",
       "2        113931.57       1  \n",
       "3         93826.63       0  \n",
       "4         79084.10       0  \n",
       "5        149756.71       1  \n",
       "6         10062.80       0  \n",
       "7        119346.88       1  \n",
       "8         74940.50       0  \n",
       "9         71725.73       0  "
      ]
     },
     "execution_count": 3,
     "metadata": {},
     "output_type": "execute_result"
    }
   ],
   "source": [
    "data.head(10)"
   ]
  },
  {
   "cell_type": "code",
   "execution_count": 4,
   "id": "a6c6aefa",
   "metadata": {},
   "outputs": [
    {
     "name": "stdout",
     "output_type": "stream",
     "text": [
      "<class 'pandas.core.frame.DataFrame'>\n",
      "RangeIndex: 10000 entries, 0 to 9999\n",
      "Data columns (total 14 columns):\n",
      " #   Column           Non-Null Count  Dtype  \n",
      "---  ------           --------------  -----  \n",
      " 0   RowNumber        10000 non-null  int64  \n",
      " 1   CustomerId       10000 non-null  int64  \n",
      " 2   Surname          10000 non-null  object \n",
      " 3   CreditScore      10000 non-null  int64  \n",
      " 4   Geography        10000 non-null  object \n",
      " 5   Gender           10000 non-null  object \n",
      " 6   Age              10000 non-null  int64  \n",
      " 7   Tenure           9091 non-null   float64\n",
      " 8   Balance          10000 non-null  float64\n",
      " 9   NumOfProducts    10000 non-null  int64  \n",
      " 10  HasCrCard        10000 non-null  int64  \n",
      " 11  IsActiveMember   10000 non-null  int64  \n",
      " 12  EstimatedSalary  10000 non-null  float64\n",
      " 13  Exited           10000 non-null  int64  \n",
      "dtypes: float64(3), int64(8), object(3)\n",
      "memory usage: 1.1+ MB\n"
     ]
    }
   ],
   "source": [
    "data.info()"
   ]
  },
  {
   "cell_type": "markdown",
   "id": "1558aae9",
   "metadata": {},
   "source": [
    "В одном столбце `Tenure` почти 1000 пропусков. Посмотрим, сколько % это составляет от всех строк."
   ]
  },
  {
   "cell_type": "code",
   "execution_count": 5,
   "id": "5345509f",
   "metadata": {},
   "outputs": [
    {
     "data": {
      "text/plain": [
       "RowNumber          0.00\n",
       "CustomerId         0.00\n",
       "Surname            0.00\n",
       "CreditScore        0.00\n",
       "Geography          0.00\n",
       "Gender             0.00\n",
       "Age                0.00\n",
       "Tenure             9.09\n",
       "Balance            0.00\n",
       "NumOfProducts      0.00\n",
       "HasCrCard          0.00\n",
       "IsActiveMember     0.00\n",
       "EstimatedSalary    0.00\n",
       "Exited             0.00\n",
       "dtype: float64"
      ]
     },
     "execution_count": 5,
     "metadata": {},
     "output_type": "execute_result"
    }
   ],
   "source": [
    "(data.isna().sum() / len(data)).round(4) * 100"
   ]
  },
  {
   "cell_type": "markdown",
   "id": "3423bd15",
   "metadata": {},
   "source": [
    "10% пропусков. Рассмотрим, зависит ли данный столбец от других и примем решение о удалении или замене."
   ]
  },
  {
   "cell_type": "markdown",
   "id": "4060ec5a",
   "metadata": {},
   "source": [
    "**`Tenure` - сколько лет человек является клиентом банка. Подробнее рассмотрим информацию об этом столбце**"
   ]
  },
  {
   "cell_type": "code",
   "execution_count": 6,
   "id": "cbfd0784",
   "metadata": {},
   "outputs": [
    {
     "data": {
      "text/plain": [
       "count    9091.000000\n",
       "mean        4.997690\n",
       "std         2.894723\n",
       "min         0.000000\n",
       "25%         2.000000\n",
       "50%         5.000000\n",
       "75%         7.000000\n",
       "max        10.000000\n",
       "Name: Tenure, dtype: float64"
      ]
     },
     "execution_count": 6,
     "metadata": {},
     "output_type": "execute_result"
    }
   ],
   "source": [
    "data['Tenure'].describe()"
   ]
  },
  {
   "cell_type": "markdown",
   "id": "1b0b3cfd",
   "metadata": {},
   "source": [
    "В среднем 5 лет человек является клиентом банка"
   ]
  },
  {
   "cell_type": "code",
   "execution_count": 7,
   "id": "63cfc63f",
   "metadata": {},
   "outputs": [
    {
     "data": {
      "text/html": [
       "<div>\n",
       "<style scoped>\n",
       "    .dataframe tbody tr th:only-of-type {\n",
       "        vertical-align: middle;\n",
       "    }\n",
       "\n",
       "    .dataframe tbody tr th {\n",
       "        vertical-align: top;\n",
       "    }\n",
       "\n",
       "    .dataframe thead th {\n",
       "        text-align: right;\n",
       "    }\n",
       "</style>\n",
       "<table border=\"1\" class=\"dataframe\">\n",
       "  <thead>\n",
       "    <tr style=\"text-align: right;\">\n",
       "      <th></th>\n",
       "      <th>RowNumber</th>\n",
       "      <th>CustomerId</th>\n",
       "      <th>CreditScore</th>\n",
       "      <th>Age</th>\n",
       "      <th>Tenure</th>\n",
       "      <th>Balance</th>\n",
       "      <th>NumOfProducts</th>\n",
       "      <th>HasCrCard</th>\n",
       "      <th>IsActiveMember</th>\n",
       "      <th>EstimatedSalary</th>\n",
       "      <th>Exited</th>\n",
       "    </tr>\n",
       "  </thead>\n",
       "  <tbody>\n",
       "    <tr>\n",
       "      <th>RowNumber</th>\n",
       "      <td>1.000000</td>\n",
       "      <td>0.004202</td>\n",
       "      <td>0.005840</td>\n",
       "      <td>0.000783</td>\n",
       "      <td>-0.007322</td>\n",
       "      <td>-0.009067</td>\n",
       "      <td>0.007246</td>\n",
       "      <td>0.000599</td>\n",
       "      <td>0.012044</td>\n",
       "      <td>-0.005988</td>\n",
       "      <td>-0.016571</td>\n",
       "    </tr>\n",
       "    <tr>\n",
       "      <th>CustomerId</th>\n",
       "      <td>0.004202</td>\n",
       "      <td>1.000000</td>\n",
       "      <td>0.005308</td>\n",
       "      <td>0.009497</td>\n",
       "      <td>-0.021418</td>\n",
       "      <td>-0.012419</td>\n",
       "      <td>0.016972</td>\n",
       "      <td>-0.014025</td>\n",
       "      <td>0.001665</td>\n",
       "      <td>0.015271</td>\n",
       "      <td>-0.006248</td>\n",
       "    </tr>\n",
       "    <tr>\n",
       "      <th>CreditScore</th>\n",
       "      <td>0.005840</td>\n",
       "      <td>0.005308</td>\n",
       "      <td>1.000000</td>\n",
       "      <td>-0.003965</td>\n",
       "      <td>-0.000062</td>\n",
       "      <td>0.006268</td>\n",
       "      <td>0.012238</td>\n",
       "      <td>-0.005458</td>\n",
       "      <td>0.025651</td>\n",
       "      <td>-0.001384</td>\n",
       "      <td>-0.027094</td>\n",
       "    </tr>\n",
       "    <tr>\n",
       "      <th>Age</th>\n",
       "      <td>0.000783</td>\n",
       "      <td>0.009497</td>\n",
       "      <td>-0.003965</td>\n",
       "      <td>1.000000</td>\n",
       "      <td>-0.013134</td>\n",
       "      <td>0.028308</td>\n",
       "      <td>-0.030680</td>\n",
       "      <td>-0.011721</td>\n",
       "      <td>0.085472</td>\n",
       "      <td>-0.007201</td>\n",
       "      <td>0.285323</td>\n",
       "    </tr>\n",
       "    <tr>\n",
       "      <th>Tenure</th>\n",
       "      <td>-0.007322</td>\n",
       "      <td>-0.021418</td>\n",
       "      <td>-0.000062</td>\n",
       "      <td>-0.013134</td>\n",
       "      <td>1.000000</td>\n",
       "      <td>-0.007911</td>\n",
       "      <td>0.011979</td>\n",
       "      <td>0.027232</td>\n",
       "      <td>-0.032178</td>\n",
       "      <td>0.010520</td>\n",
       "      <td>-0.016761</td>\n",
       "    </tr>\n",
       "    <tr>\n",
       "      <th>Balance</th>\n",
       "      <td>-0.009067</td>\n",
       "      <td>-0.012419</td>\n",
       "      <td>0.006268</td>\n",
       "      <td>0.028308</td>\n",
       "      <td>-0.007911</td>\n",
       "      <td>1.000000</td>\n",
       "      <td>-0.304180</td>\n",
       "      <td>-0.014858</td>\n",
       "      <td>-0.010084</td>\n",
       "      <td>0.012797</td>\n",
       "      <td>0.118533</td>\n",
       "    </tr>\n",
       "    <tr>\n",
       "      <th>NumOfProducts</th>\n",
       "      <td>0.007246</td>\n",
       "      <td>0.016972</td>\n",
       "      <td>0.012238</td>\n",
       "      <td>-0.030680</td>\n",
       "      <td>0.011979</td>\n",
       "      <td>-0.304180</td>\n",
       "      <td>1.000000</td>\n",
       "      <td>0.003183</td>\n",
       "      <td>0.009612</td>\n",
       "      <td>0.014204</td>\n",
       "      <td>-0.047820</td>\n",
       "    </tr>\n",
       "    <tr>\n",
       "      <th>HasCrCard</th>\n",
       "      <td>0.000599</td>\n",
       "      <td>-0.014025</td>\n",
       "      <td>-0.005458</td>\n",
       "      <td>-0.011721</td>\n",
       "      <td>0.027232</td>\n",
       "      <td>-0.014858</td>\n",
       "      <td>0.003183</td>\n",
       "      <td>1.000000</td>\n",
       "      <td>-0.011866</td>\n",
       "      <td>-0.009933</td>\n",
       "      <td>-0.007138</td>\n",
       "    </tr>\n",
       "    <tr>\n",
       "      <th>IsActiveMember</th>\n",
       "      <td>0.012044</td>\n",
       "      <td>0.001665</td>\n",
       "      <td>0.025651</td>\n",
       "      <td>0.085472</td>\n",
       "      <td>-0.032178</td>\n",
       "      <td>-0.010084</td>\n",
       "      <td>0.009612</td>\n",
       "      <td>-0.011866</td>\n",
       "      <td>1.000000</td>\n",
       "      <td>-0.011421</td>\n",
       "      <td>-0.156128</td>\n",
       "    </tr>\n",
       "    <tr>\n",
       "      <th>EstimatedSalary</th>\n",
       "      <td>-0.005988</td>\n",
       "      <td>0.015271</td>\n",
       "      <td>-0.001384</td>\n",
       "      <td>-0.007201</td>\n",
       "      <td>0.010520</td>\n",
       "      <td>0.012797</td>\n",
       "      <td>0.014204</td>\n",
       "      <td>-0.009933</td>\n",
       "      <td>-0.011421</td>\n",
       "      <td>1.000000</td>\n",
       "      <td>0.012097</td>\n",
       "    </tr>\n",
       "    <tr>\n",
       "      <th>Exited</th>\n",
       "      <td>-0.016571</td>\n",
       "      <td>-0.006248</td>\n",
       "      <td>-0.027094</td>\n",
       "      <td>0.285323</td>\n",
       "      <td>-0.016761</td>\n",
       "      <td>0.118533</td>\n",
       "      <td>-0.047820</td>\n",
       "      <td>-0.007138</td>\n",
       "      <td>-0.156128</td>\n",
       "      <td>0.012097</td>\n",
       "      <td>1.000000</td>\n",
       "    </tr>\n",
       "  </tbody>\n",
       "</table>\n",
       "</div>"
      ],
      "text/plain": [
       "                 RowNumber  CustomerId  CreditScore       Age    Tenure  \\\n",
       "RowNumber         1.000000    0.004202     0.005840  0.000783 -0.007322   \n",
       "CustomerId        0.004202    1.000000     0.005308  0.009497 -0.021418   \n",
       "CreditScore       0.005840    0.005308     1.000000 -0.003965 -0.000062   \n",
       "Age               0.000783    0.009497    -0.003965  1.000000 -0.013134   \n",
       "Tenure           -0.007322   -0.021418    -0.000062 -0.013134  1.000000   \n",
       "Balance          -0.009067   -0.012419     0.006268  0.028308 -0.007911   \n",
       "NumOfProducts     0.007246    0.016972     0.012238 -0.030680  0.011979   \n",
       "HasCrCard         0.000599   -0.014025    -0.005458 -0.011721  0.027232   \n",
       "IsActiveMember    0.012044    0.001665     0.025651  0.085472 -0.032178   \n",
       "EstimatedSalary  -0.005988    0.015271    -0.001384 -0.007201  0.010520   \n",
       "Exited           -0.016571   -0.006248    -0.027094  0.285323 -0.016761   \n",
       "\n",
       "                  Balance  NumOfProducts  HasCrCard  IsActiveMember  \\\n",
       "RowNumber       -0.009067       0.007246   0.000599        0.012044   \n",
       "CustomerId      -0.012419       0.016972  -0.014025        0.001665   \n",
       "CreditScore      0.006268       0.012238  -0.005458        0.025651   \n",
       "Age              0.028308      -0.030680  -0.011721        0.085472   \n",
       "Tenure          -0.007911       0.011979   0.027232       -0.032178   \n",
       "Balance          1.000000      -0.304180  -0.014858       -0.010084   \n",
       "NumOfProducts   -0.304180       1.000000   0.003183        0.009612   \n",
       "HasCrCard       -0.014858       0.003183   1.000000       -0.011866   \n",
       "IsActiveMember  -0.010084       0.009612  -0.011866        1.000000   \n",
       "EstimatedSalary  0.012797       0.014204  -0.009933       -0.011421   \n",
       "Exited           0.118533      -0.047820  -0.007138       -0.156128   \n",
       "\n",
       "                 EstimatedSalary    Exited  \n",
       "RowNumber              -0.005988 -0.016571  \n",
       "CustomerId              0.015271 -0.006248  \n",
       "CreditScore            -0.001384 -0.027094  \n",
       "Age                    -0.007201  0.285323  \n",
       "Tenure                  0.010520 -0.016761  \n",
       "Balance                 0.012797  0.118533  \n",
       "NumOfProducts           0.014204 -0.047820  \n",
       "HasCrCard              -0.009933 -0.007138  \n",
       "IsActiveMember         -0.011421 -0.156128  \n",
       "EstimatedSalary         1.000000  0.012097  \n",
       "Exited                  0.012097  1.000000  "
      ]
     },
     "execution_count": 7,
     "metadata": {},
     "output_type": "execute_result"
    }
   ],
   "source": [
    "data.corr()"
   ]
  },
  {
   "cell_type": "code",
   "execution_count": 8,
   "id": "adcf5ec9",
   "metadata": {},
   "outputs": [
    {
     "data": {
      "image/png": "[encoded data removed]",
      "text/plain": [
       "<Figure size 1200x1200 with 2 Axes>"
      ]
     },
     "metadata": {},
     "output_type": "display_data"
    }
   ],
   "source": [
    "plt.figure(figsize=(12, 12))\n",
    "\n",
    "seaborn.heatmap(data.corr(), annot=True, square=True);"
   ]
  },
  {
   "cell_type": "markdown",
   "id": "f037ee5c",
   "metadata": {},
   "source": [
    "Никаких зависимостей."
   ]
  },
  {
   "cell_type": "markdown",
   "id": "8210994d",
   "metadata": {},
   "source": [
    "**Если пропуски заменить медианой или константой, распределение значений будет ненормированным. Из-за этого при обучении модели значение с большим выбросом будет считаться более важным. Попробуем удалить пропуски. Проследим за распределением.**."
   ]
  },
  {
   "cell_type": "code",
   "execution_count": 9,
   "id": "b6132ac2",
   "metadata": {},
   "outputs": [
    {
     "data": {
      "image/png": "[encoded data removed]",
      "text/plain": [
       "<Figure size 1000x600 with 1 Axes>"
      ]
     },
     "metadata": {},
     "output_type": "display_data"
    }
   ],
   "source": [
    "seaborn.set(rc = {'figure.figsize' : (10, 6)})\n",
    "data_copy = data.copy()\n",
    "seaborn.histplot(data_copy['Tenure'], bins = 10)\n",
    "plt.title('Распределение Tenure до удаления пропусков');"
   ]
  },
  {
   "cell_type": "code",
   "execution_count": 10,
   "id": "ed455096",
   "metadata": {},
   "outputs": [],
   "source": [
    "data_copy = data_copy.dropna()"
   ]
  },
  {
   "cell_type": "code",
   "execution_count": 11,
   "id": "9650e434",
   "metadata": {},
   "outputs": [
    {
     "data": {
      "image/png": "[encoded data removed]",
      "text/plain": [
       "<Figure size 1000x600 with 1 Axes>"
      ]
     },
     "metadata": {},
     "output_type": "display_data"
    }
   ],
   "source": [
    "seaborn.histplot(data_copy['Tenure'], bins = 10)\n",
    "plt.title('Распределение Tenure после удаления пропусков');"
   ]
  },
  {
   "cell_type": "markdown",
   "id": "ca850f86",
   "metadata": {},
   "source": [
    "**Распределение значений до удаления пропусков и после практически не изменилось.**"
   ]
  },
  {
   "cell_type": "markdown",
   "id": "33a07fc9",
   "metadata": {},
   "source": [
    "Удалим пропуски в датасете."
   ]
  },
  {
   "cell_type": "code",
   "execution_count": 12,
   "id": "02f0cfb8",
   "metadata": {},
   "outputs": [],
   "source": [
    "data = data.dropna()"
   ]
  },
  {
   "cell_type": "markdown",
   "id": "41edac8e",
   "metadata": {},
   "source": [
    "## Исследование задачи"
   ]
  },
  {
   "cell_type": "markdown",
   "id": "431a4530",
   "metadata": {},
   "source": [
    "Посмотрим, как распределены классы в нашем целевом признаке"
   ]
  },
  {
   "cell_type": "code",
   "execution_count": 13,
   "id": "26771f98",
   "metadata": {},
   "outputs": [
    {
     "data": {
      "image/png": "[encoded data removed]",
      "text/plain": [
       "<Figure size 1000x600 with 1 Axes>"
      ]
     },
     "metadata": {},
     "output_type": "display_data"
    }
   ],
   "source": [
    "data.pivot_table(index='Exited', values='Age', aggfunc='count').plot(\n",
    "    kind='pie', y='Age', autopct='%1.0f%%', title='Диаграмма сбалансированности классов Exited');"
   ]
  },
  {
   "cell_type": "markdown",
   "id": "b41d4b66",
   "metadata": {},
   "source": [
    "Классы определенно несбалансированы. 80% - 0 на 20% - 1..."
   ]
  },
  {
   "cell_type": "markdown",
   "id": "b9246918",
   "metadata": {},
   "source": [
    "Позже проверим, как работает модель с несбалансированными классами, а пока обработаем данные."
   ]
  },
  {
   "cell_type": "markdown",
   "id": "763e5a1d",
   "metadata": {},
   "source": [
    "Разделим данные на признаки и целевой признак. Отметим, что такие столбцы, как `Surname`- фамилия, `RowNumber`-индекс строки в данных, `CustomerId'`-уникальный идентификатор клиента, никак не помогут в обучении модели, поэтому удалим их из признаков."
   ]
  },
  {
   "cell_type": "code",
   "execution_count": 14,
   "id": "263ca80c",
   "metadata": {},
   "outputs": [],
   "source": [
    "features = data.drop(['Exited', 'RowNumber', 'CustomerId', 'Surname'], axis=1)\n",
    "target = data['Exited']\n",
    "features = pd.get_dummies(features, drop_first=True)"
   ]
  },
  {
   "cell_type": "markdown",
   "id": "211bda9b",
   "metadata": {},
   "source": [
    "Далее разделим данные на три выборки: обучающую, валидационную и тестовую."
   ]
  },
  {
   "cell_type": "code",
   "execution_count": 15,
   "id": "5bb6d8f4",
   "metadata": {},
   "outputs": [],
   "source": [
    "features_train, features_test, target_train, target_test = train_test_split(\n",
    "    features, target, test_size=0.3, random_state=12345, stratify=target)\n",
    "\n",
    "features_test, features_valid, target_test, target_valid = train_test_split(\n",
    "    features_test, target_test, test_size=0.5, random_state=12345, stratify=target_test)"
   ]
  },
  {
   "cell_type": "markdown",
   "id": "d23e8ebd",
   "metadata": {},
   "source": [
    "Проверим, правильно ли разделились данные."
   ]
  },
  {
   "cell_type": "code",
   "execution_count": 16,
   "id": "fd205d51",
   "metadata": {},
   "outputs": [
    {
     "name": "stdout",
     "output_type": "stream",
     "text": [
      "(6363, 11)\n",
      "(6363,)\n",
      "(1364, 11)\n",
      "(1364,)\n",
      "(1364, 11)\n",
      "(1364,)\n"
     ]
    }
   ],
   "source": [
    "print(features_train.shape)\n",
    "print(target_train.shape)\n",
    "print(features_test.shape)\n",
    "print(target_test.shape)\n",
    "print(features_valid.shape)\n",
    "print(target_valid.shape)"
   ]
  },
  {
   "cell_type": "markdown",
   "id": "1e3fc500",
   "metadata": {},
   "source": [
    "Далее стандартизируем численные признаки."
   ]
  },
  {
   "cell_type": "code",
   "execution_count": 17,
   "id": "e3b29fc3",
   "metadata": {},
   "outputs": [],
   "source": [
    "numeric = ['CreditScore', 'Age', 'Tenure', 'Balance',\n",
    "           'NumOfProducts', 'EstimatedSalary']\n",
    "\n",
    "scaler = StandardScaler()\n",
    "scaler.fit(features_train[numeric])\n",
    "features_train[numeric] = scaler.transform(features_train[numeric])\n",
    "features_valid[numeric] = scaler.transform(features_valid[numeric])\n",
    "features_test[numeric] = scaler.transform(features_test[numeric])"
   ]
  },
  {
   "cell_type": "markdown",
   "id": "0cc91bd8",
   "metadata": {},
   "source": [
    "Изучим модель логистической регрессии на несбалансированной выборке."
   ]
  },
  {
   "cell_type": "code",
   "execution_count": 20,
   "id": "ccccdd76",
   "metadata": {},
   "outputs": [
    {
     "name": "stdout",
     "output_type": "stream",
     "text": [
      "F1-мера наилучшей модели на валидационной выборке: 0.3316062176165803 AUC-ROC-мера наилучшей модели на валидационной выборке 0.7788167256250248 Лучший алгоритм: lbfgs\n"
     ]
    }
   ],
   "source": [
    "algoritms = ['lbfgs', 'saga', 'sag', 'newton-cg', 'liblinear']\n",
    "best_model_lr = None\n",
    "best_result_f = 0\n",
    "best_result_auc = 0\n",
    "for a in algoritms:\n",
    "    model = LogisticRegression(random_state=12345, solver=a, max_iter=100)\n",
    "    model.fit(features_train, target_train)\n",
    "    prediction_valid = model.predict(features_valid)\n",
    "    result_f = f1_score(target_valid, prediction_valid)\n",
    "    result_auc = roc_auc_score(target_valid, model.predict_proba(features_valid)[:, 1])\n",
    "    if result_f > best_result_f:\n",
    "        best_alg = a\n",
    "        best_model_lr = model\n",
    "        best_result_f = result_f\n",
    "        best_result_auc = result_auc\n",
    "print(\"F1-мера наилучшей модели на валидационной выборке:\", best_result_f,\n",
    "      'AUC-ROC-мера наилучшей модели на валидационной выборке', best_result_auc, \"Лучший алгоритм:\", best_alg)"
   ]
  },
  {
   "cell_type": "markdown",
   "id": "a735a276",
   "metadata": {},
   "source": [
    "Даже с подбором параметров метрика очень далека от единицы."
   ]
  },
  {
   "cell_type": "markdown",
   "id": "f38aed0f",
   "metadata": {},
   "source": [
    "Посмотрим на матрицу ошибок."
   ]
  },
  {
   "cell_type": "code",
   "execution_count": 21,
   "id": "a59fed54",
   "metadata": {},
   "outputs": [
    {
     "name": "stdout",
     "output_type": "stream",
     "text": [
      "Матрица ошибок для логистической регрессии [[1042   44]\n",
      " [ 214   64]]\n"
     ]
    }
   ],
   "source": [
    "print('Матрица ошибок для логистической регрессии', confusion_matrix(target_valid, prediction_valid))"
   ]
  },
  {
   "cell_type": "markdown",
   "id": "b68cdee8",
   "metadata": {},
   "source": [
    "Попробуем обучить модель решающего дерева."
   ]
  },
  {
   "cell_type": "code",
   "execution_count": 22,
   "id": "a0fe583e",
   "metadata": {},
   "outputs": [
    {
     "name": "stdout",
     "output_type": "stream",
     "text": [
      "F1-мера 0.5435244161358812 AUC-ROC 0.824347152112564 Глубина дерева: 6\n"
     ]
    }
   ],
   "source": [
    "best_model_ts= None\n",
    "best_result_f = 0\n",
    "best_result_auc = 0\n",
    "for depth in range(1, 61):\n",
    "    model = DecisionTreeClassifier(random_state=12345, max_depth=depth, splitter='random')\n",
    "    model.fit(features_train, target_train)\n",
    "    predictions_valid = model.predict(features_valid)\n",
    "    result_f = f1_score(target_valid, predictions_valid)\n",
    "    result_auc = roc_auc_score(target_valid, model.predict_proba(features_valid)[:, 1])\n",
    "    if result_f > best_result_f:\n",
    "        best_model_ts = model\n",
    "        best_depth = depth\n",
    "        best_result_f = result_f\n",
    "        best_result_auc = result_auc\n",
    "                    \n",
    "print(\"F1-мера\", best_result_f, 'AUC-ROC', best_result_auc, \"Глубина дерева:\", best_depth)"
   ]
  },
  {
   "cell_type": "markdown",
   "id": "e7e24612",
   "metadata": {},
   "source": [
    "F1-мера также далека от значения, которое нам нужно, но уже лучше предыдущей модели."
   ]
  },
  {
   "cell_type": "code",
   "execution_count": 23,
   "id": "87f7fa83",
   "metadata": {},
   "outputs": [
    {
     "name": "stdout",
     "output_type": "stream",
     "text": [
      "Матрица ошибок для решающего дерева [[916 170]\n",
      " [142 136]]\n"
     ]
    }
   ],
   "source": [
    "print('Матрица ошибок для решающего дерева', confusion_matrix(target_valid, predictions_valid))"
   ]
  },
  {
   "cell_type": "markdown",
   "id": "b38731cc",
   "metadata": {},
   "source": [
    "Модель часто видит отрицательные ответы там, где их нет."
   ]
  },
  {
   "cell_type": "markdown",
   "id": "96ae37c9",
   "metadata": {},
   "source": [
    "Обучим модель случайного леса на несбалансированной выборке."
   ]
  },
  {
   "cell_type": "code",
   "execution_count": 24,
   "id": "773bfccc",
   "metadata": {},
   "outputs": [
    {
     "name": "stdout",
     "output_type": "stream",
     "text": [
      "F1-мера 0.5982905982905983 AUC-ROC 0.8562409740715715 Количество деревьев: 30 Глубина: 16\n"
     ]
    }
   ],
   "source": [
    "best_model_rt = None\n",
    "best_result_f = 0\n",
    "best_result_auc = 0\n",
    "for est in range(10, 31, 10):\n",
    "    for depth in range (1, 61):\n",
    "        model = RandomForestClassifier(random_state=12345, n_estimators=est, max_depth=depth)\n",
    "        model.fit(features_train, target_train)\n",
    "        predictions_valid = model.predict(features_valid)\n",
    "        result_f = f1_score(target_valid, predictions_valid)\n",
    "        result_auc = roc_auc_score(target_valid, model.predict_proba(features_valid)[:, 1])\n",
    "        if result_f > best_result_f:\n",
    "            best_model_rt = model\n",
    "            best_depth = depth\n",
    "            best_est = est\n",
    "            best_result_f = result_f\n",
    "            best_result_auc = result_auc           \n",
    "print('F1-мера', best_result_f, 'AUC-ROC', best_result_auc, \"Количество деревьев:\", best_est, \"Глубина:\", best_depth)"
   ]
  },
  {
   "cell_type": "markdown",
   "id": "c0d41f1a",
   "metadata": {},
   "source": [
    "А у случайного леса метрика достигла того, что нам нужно."
   ]
  },
  {
   "cell_type": "code",
   "execution_count": 25,
   "id": "ce1fedb4",
   "metadata": {},
   "outputs": [
    {
     "name": "stdout",
     "output_type": "stream",
     "text": [
      "Матрица ошибок для случайного леса [[1043   43]\n",
      " [ 146  132]]\n"
     ]
    }
   ],
   "source": [
    "print('Матрица ошибок для случайного леса', confusion_matrix(target_valid, predictions_valid))"
   ]
  },
  {
   "cell_type": "markdown",
   "id": "10400222",
   "metadata": {},
   "source": [
    "Но это говорит о том, что при сбалансированной выборке результат будет еще лучше."
   ]
  },
  {
   "cell_type": "markdown",
   "id": "5e31d808",
   "metadata": {},
   "source": [
    "## Борьба с дисбалансом"
   ]
  },
  {
   "cell_type": "markdown",
   "id": "a87570c3",
   "metadata": {},
   "source": [
    "**Применим первый метод борьбы с дисбалансом - аргумент `class_weight='balanced'`**"
   ]
  },
  {
   "cell_type": "markdown",
   "id": "a37eb2ab",
   "metadata": {},
   "source": [
    "Первая модель - логистическая регрессия. \n",
    "\n",
    "С помощью цикла сразу выявим лучший алгоритм логистической регрессии."
   ]
  },
  {
   "cell_type": "code",
   "execution_count": 26,
   "id": "bafc0ec0",
   "metadata": {},
   "outputs": [
    {
     "name": "stdout",
     "output_type": "stream",
     "text": [
      "F1-мера наилучшей модели на валидационной выборке: 0.5061728395061728 AUC-ROC-мера наилучшей модели на валидационной выборке 0.7803734912622388 Лучший алгоритм: lbfgs\n"
     ]
    }
   ],
   "source": [
    "algoritms = ['lbfgs', 'saga', 'sag', 'newton-cg', 'liblinear']\n",
    "best_model_lr = None\n",
    "best_result_f = 0\n",
    "best_result_auc = 0\n",
    "for a in algoritms:\n",
    "    model = LogisticRegression(random_state=12345, solver=a, max_iter=100, class_weight='balanced')\n",
    "    model.fit(features_train, target_train)\n",
    "    prediction_valid = model.predict(features_valid)\n",
    "    result_f = f1_score(target_valid, prediction_valid)\n",
    "    result_auc = roc_auc_score(target_valid, model.predict_proba(features_valid)[:, 1])\n",
    "    if result_f > best_result_f:\n",
    "        best_alg = a\n",
    "        best_model_lr = model\n",
    "        best_result_f = result_f\n",
    "        best_result_auc = result_auc\n",
    "print(\"F1-мера наилучшей модели на валидационной выборке:\", best_result_f,\n",
    "      'AUC-ROC-мера наилучшей модели на валидационной выборке', best_result_auc, \"Лучший алгоритм:\", best_alg)"
   ]
  },
  {
   "cell_type": "markdown",
   "id": "e56eaab0",
   "metadata": {},
   "source": [
    "При обучении модели с несбалансированными выборками результат логистической регрессии был 0.33.\n",
    "\n",
    "Результат стал намного лучше, но ддо нужного значения все же не дотягивает, рассмотрим другие модели."
   ]
  },
  {
   "cell_type": "markdown",
   "id": "81e95a3e",
   "metadata": {},
   "source": [
    "Рассмотрим вторую модель с таким методом балансировки - случайный лес."
   ]
  },
  {
   "cell_type": "markdown",
   "id": "032c708f",
   "metadata": {},
   "source": [
    "В цикле найдем лучшие количество деревьев и глубину."
   ]
  },
  {
   "cell_type": "code",
   "execution_count": 27,
   "id": "dd08f97a",
   "metadata": {},
   "outputs": [
    {
     "name": "stdout",
     "output_type": "stream",
     "text": [
      "F1-мера 0.6148648648648649 AUC-ROC 0.8624481630165481 Количество деревьев: 30 Глубина: 9\n"
     ]
    }
   ],
   "source": [
    "best_model_rt = None\n",
    "best_result_f = 0\n",
    "best_result_auc = 0\n",
    "for est in range(10, 31, 10):\n",
    "    for depth in range (1, 61):\n",
    "        model = RandomForestClassifier(random_state=12345, n_estimators=est, max_depth=depth, class_weight='balanced')\n",
    "        model.fit(features_train, target_train)\n",
    "        predictions_valid = model.predict(features_valid)\n",
    "        result_f = f1_score(target_valid, predictions_valid)\n",
    "        result_auc = roc_auc_score(target_valid, model.predict_proba(features_valid)[:, 1])\n",
    "        if result_f > best_result_f:\n",
    "            best_model_rt = model\n",
    "            best_depth = depth\n",
    "            best_est = est\n",
    "            best_result_f = result_f\n",
    "            best_result_auc = result_auc           \n",
    "print('F1-мера', best_result_f, 'AUC-ROC', best_result_auc, \"Количество деревьев:\", best_est, \"Глубина:\", best_depth)"
   ]
  },
  {
   "cell_type": "markdown",
   "id": "9eaff3a4",
   "metadata": {},
   "source": [
    "С первым же методом балансировки достигли нужной отметки."
   ]
  },
  {
   "cell_type": "markdown",
   "id": "9085b5cc",
   "metadata": {},
   "source": [
    "Последняя модель - решающее дерево. Также найдем лучшую глубину."
   ]
  },
  {
   "cell_type": "code",
   "execution_count": 28,
   "id": "09763970",
   "metadata": {},
   "outputs": [
    {
     "name": "stdout",
     "output_type": "stream",
     "text": [
      "F1-мера 0.5718270571827058 AUC-ROC 0.8252116538813148 Глубина дерева: 8\n"
     ]
    }
   ],
   "source": [
    "best_model_ts= None\n",
    "best_result_f = 0\n",
    "best_result_auc = 0\n",
    "for depth in range(1, 61):\n",
    "    model = DecisionTreeClassifier(random_state=12345, max_depth=depth, class_weight='balanced', splitter='random')\n",
    "    model.fit(features_train, target_train)\n",
    "    predictions_valid = model.predict(features_valid)\n",
    "    result_f = f1_score(target_valid, predictions_valid)\n",
    "    result_auc = roc_auc_score(target_valid, model.predict_proba(features_valid)[:, 1])\n",
    "    if result_f > best_result_f:\n",
    "        best_model_ts = model\n",
    "        best_depth = depth\n",
    "        best_result_f = result_f\n",
    "        best_result_auc = result_auc\n",
    "                    \n",
    "print(\"F1-мера\", best_result_f, 'AUC-ROC', best_result_auc, \"Глубина дерева:\", best_depth)"
   ]
  },
  {
   "cell_type": "markdown",
   "id": "431750fd",
   "metadata": {},
   "source": [
    "Хуже предыдущей модели и нужной отметки не достигли."
   ]
  },
  {
   "cell_type": "markdown",
   "id": "8ddc0591",
   "metadata": {},
   "source": [
    "**Слудеющий метод балансировки - увеличение выборки**"
   ]
  },
  {
   "cell_type": "markdown",
   "id": "29e46180",
   "metadata": {},
   "source": [
    "- Разделим обучающую выборку на отрицательные и положительные объекты;\n",
    "- Скопируем несколько раз положительные объекты;\n",
    "- С учётом полученных данных создадим новую обучающую выборку;\n",
    "- Перемешаем данные.\n",
    "- Обучим модели."
   ]
  },
  {
   "cell_type": "code",
   "execution_count": 37,
   "id": "260a9d45",
   "metadata": {},
   "outputs": [],
   "source": [
    "def upsample(features, target, repeat):\n",
    "    features_zeros = features[target == 0]\n",
    "    features_ones = features[target == 1]\n",
    "    target_zeros = target[target == 0]\n",
    "    target_ones = target[target == 1]\n",
    "\n",
    "    features_upsampled = pd.concat([features_zeros] + [features_ones] * repeat)\n",
    "    target_upsampled = pd.concat([target_zeros] + [target_ones] * repeat)\n",
    "    \n",
    "    features_upsampled, target_upsampled = shuffle(\n",
    "        features_upsampled, target_upsampled, random_state=12345)\n",
    "    \n",
    "    return features_upsampled, target_upsampled\n",
    "\n",
    "features_upsampled, target_upsampled = upsample(features_train, target_train, 10)\n"
   ]
  },
  {
   "cell_type": "markdown",
   "id": "9ca73616",
   "metadata": {},
   "source": [
    "Для получения лучших результатов применим параметры, отобранные ранее."
   ]
  },
  {
   "cell_type": "markdown",
   "id": "4e691c19",
   "metadata": {},
   "source": [
    "**Логистическая регрессия**"
   ]
  },
  {
   "cell_type": "code",
   "execution_count": 38,
   "id": "bc5bab9f",
   "metadata": {},
   "outputs": [
    {
     "name": "stdout",
     "output_type": "stream",
     "text": [
      "F1-мера логистической регрессии после увеличения выборки 0.41712926249008725 AUC_ROC 0.7804297998065635\n"
     ]
    }
   ],
   "source": [
    "model_lr_up = LogisticRegression(random_state=12345, solver='lbfgs')\n",
    "model_lr_up.fit(features_upsampled, target_upsampled)\n",
    "predicted_valid = model_lr_up.predict(features_valid)\n",
    "print(\"F1-мера логистической регрессии после увеличения выборки\", f1_score(target_valid, predicted_valid),\n",
    "     'AUC_ROC', roc_auc_score(target_valid, model_lr_up.predict_proba(features_valid)[:, 1]))"
   ]
  },
  {
   "cell_type": "markdown",
   "id": "03108070",
   "metadata": {},
   "source": [
    "Результат лучше, чем при несбалансированных выборках, но хуже, чем при предыдущем методе балансировки."
   ]
  },
  {
   "cell_type": "markdown",
   "id": "e21f8ae0",
   "metadata": {},
   "source": [
    "**Случайный лес**"
   ]
  },
  {
   "cell_type": "code",
   "execution_count": 39,
   "id": "136e154d",
   "metadata": {},
   "outputs": [
    {
     "name": "stdout",
     "output_type": "stream",
     "text": [
      "F1-мера случайного леса после увеличения выборки 0.5831702544031311 AUC_ROC 0.8383563867138334\n"
     ]
    }
   ],
   "source": [
    "model_rf_up = RandomForestClassifier(random_state=12345, n_estimators=30, max_depth=53)\n",
    "model_rf_up.fit(features_upsampled, target_upsampled)\n",
    "predicted_valid = model_rf_up.predict(features_valid)\n",
    "print(\"F1-мера случайного леса после увеличения выборки\", f1_score(target_valid, predicted_valid),\n",
    "     'AUC_ROC', roc_auc_score(target_valid, model_rf_up.predict_proba(features_valid)[:, 1]))"
   ]
  },
  {
   "cell_type": "markdown",
   "id": "c64be2c9",
   "metadata": {},
   "source": [
    "Результат также хуже, чем с другим методом балансировки. Проверим последнюю модель."
   ]
  },
  {
   "cell_type": "markdown",
   "id": "9ada7ba5",
   "metadata": {},
   "source": [
    "**Решающее дерево**"
   ]
  },
  {
   "cell_type": "code",
   "execution_count": 40,
   "id": "49a7be1a",
   "metadata": {},
   "outputs": [
    {
     "name": "stdout",
     "output_type": "stream",
     "text": [
      "F1-мера решающего дерева после увеличения выборки 0.5008635578583764 AUC_ROC 0.6889681624865852\n"
     ]
    }
   ],
   "source": [
    "model_dt_up = DecisionTreeClassifier(random_state=12345, max_depth=51)\n",
    "model_dt_up.fit(features_upsampled, target_upsampled)\n",
    "predicted_valid = model_dt_up.predict(features_valid)\n",
    "print(\"F1-мера решающего дерева после увеличения выборки\", f1_score(target_valid, predicted_valid),\n",
    "     'AUC_ROC', roc_auc_score(target_valid, model_dt_up.predict_proba(features_valid)[:, 1]))"
   ]
  },
  {
   "cell_type": "markdown",
   "id": "5540429a",
   "metadata": {},
   "source": [
    "Отбрасываем данный способ балансировки."
   ]
  },
  {
   "cell_type": "markdown",
   "id": "3e64df06",
   "metadata": {},
   "source": [
    "Следующий способ - **уменьшение выборки**"
   ]
  },
  {
   "cell_type": "markdown",
   "id": "2b700eb6",
   "metadata": {},
   "source": [
    "- Разделим обучающую выборку на отрицательные и положительные объекты;\n",
    "- Случайным образом отбросим часть из отрицательных объектов;\n",
    "- С учётом полученных данных создадим новую обучающую выборку;\n",
    "- Перемешаем данные;\n",
    "- Обучим модели."
   ]
  },
  {
   "cell_type": "code",
   "execution_count": 41,
   "id": "654a554f",
   "metadata": {},
   "outputs": [],
   "source": [
    "def downsample(features, target, fraction):\n",
    "    features_zeros = features[target == 0]\n",
    "    features_ones = features[target == 1]\n",
    "    target_zeros = target[target == 0]\n",
    "    target_ones = target[target == 1]\n",
    "\n",
    "    features_downsampled = pd.concat(\n",
    "        [features_zeros.sample(frac=fraction, random_state=12345)] + [features_ones])\n",
    "    target_downsampled = pd.concat(\n",
    "        [target_zeros.sample(frac=fraction, random_state=12345)] + [target_ones])\n",
    "    \n",
    "    features_downsampled, target_downsampled = shuffle(\n",
    "        features_downsampled, target_downsampled, random_state=12345)\n",
    "    \n",
    "    return features_downsampled, target_downsampled\n",
    "\n",
    "features_downsampled, target_downsampled = downsample(features_train, target_train, 0.1)\n"
   ]
  },
  {
   "cell_type": "markdown",
   "id": "8e41e01d",
   "metadata": {},
   "source": [
    "**Логистическая регрессия**"
   ]
  },
  {
   "cell_type": "code",
   "execution_count": 42,
   "id": "e57f4d0d",
   "metadata": {},
   "outputs": [
    {
     "name": "stdout",
     "output_type": "stream",
     "text": [
      "F1-мера логистической регрессии после уменьшения выборки 0.4154209284028324 AUC_ROC 0.7793963724048385\n"
     ]
    }
   ],
   "source": [
    "model_lr_down = LogisticRegression(random_state=12345, solver='lbfgs')\n",
    "model_lr_down.fit(features_downsampled, target_downsampled)\n",
    "predicted_valid = model_lr_down.predict(features_valid)\n",
    "\n",
    "print(\"F1-мера логистической регрессии после уменьшения выборки\", f1_score(target_valid, predicted_valid),\n",
    "     'AUC_ROC', roc_auc_score(target_valid, model_lr_down.predict_proba(features_valid)[:, 1]))"
   ]
  },
  {
   "cell_type": "markdown",
   "id": "90718984",
   "metadata": {},
   "source": [
    "Результат такой же."
   ]
  },
  {
   "cell_type": "markdown",
   "id": "cd9c183c",
   "metadata": {},
   "source": [
    "**Случайный лес**"
   ]
  },
  {
   "cell_type": "code",
   "execution_count": 43,
   "id": "d4a11ed3",
   "metadata": {},
   "outputs": [
    {
     "name": "stdout",
     "output_type": "stream",
     "text": [
      "F1-мера случайного леса после увеличения выборки 0.5831702544031311 AUC_ROC 0.8383563867138334\n"
     ]
    }
   ],
   "source": [
    "model_rf_down = RandomForestClassifier(random_state=12345, n_estimators=30, max_depth=53)\n",
    "model_rf_down.fit(features_upsampled, target_upsampled)\n",
    "predicted_valid = model_rf_down.predict(features_valid)\n",
    "print(\"F1-мера случайного леса после увеличения выборки\", f1_score(target_valid, predicted_valid),\n",
    "     'AUC_ROC', roc_auc_score(target_valid, model_rf_down.predict_proba(features_valid)[:, 1]))"
   ]
  },
  {
   "cell_type": "markdown",
   "id": "f937cd3f",
   "metadata": {},
   "source": [
    "Аналогично."
   ]
  },
  {
   "cell_type": "markdown",
   "id": "693ff9b2",
   "metadata": {},
   "source": [
    "**Дерево решений**"
   ]
  },
  {
   "cell_type": "code",
   "execution_count": 44,
   "id": "6185245e",
   "metadata": {},
   "outputs": [
    {
     "name": "stdout",
     "output_type": "stream",
     "text": [
      "F1-мера решающего дерева после увеличения выборки 0.5008635578583764 AUC_ROC 0.6889681624865852\n"
     ]
    }
   ],
   "source": [
    "model_dt_down = DecisionTreeClassifier(random_state=12345, max_depth=51)\n",
    "model_dt_down.fit(features_upsampled, target_upsampled)\n",
    "predicted_valid = model_dt_down.predict(features_valid)\n",
    "print(\"F1-мера решающего дерева после увеличения выборки\", f1_score(target_valid, predicted_valid),\n",
    "     'AUC_ROC', roc_auc_score(target_valid, model_dt_down.predict_proba(features_valid)[:, 1]))"
   ]
  },
  {
   "cell_type": "markdown",
   "id": "3538896e",
   "metadata": {},
   "source": [
    "Результаты при увеличении и уменьшении выборки показали практически одинаковые результаты."
   ]
  },
  {
   "cell_type": "markdown",
   "id": "a4c938c8",
   "metadata": {},
   "source": [
    "Последний метод балансировки - **изменение порога классификации**"
   ]
  },
  {
   "cell_type": "markdown",
   "id": "d639ba81",
   "metadata": {},
   "source": [
    "Переберем значения порогов от 0 до 0.3 с шагом 0.02. Найдем для каждого значения точность, полноту и F1-меру."
   ]
  },
  {
   "cell_type": "code",
   "execution_count": 46,
   "id": "47ea84b3",
   "metadata": {},
   "outputs": [
    {
     "name": "stdout",
     "output_type": "stream",
     "text": [
      "Порог = 0.00 | Точность = 0.204, Полнота = 1.000, F1 = 0.339, AUC-ROC = 0.779\n",
      "Порог = 0.02 | Точность = 0.204, Полнота = 0.996, F1 = 0.339, AUC-ROC = 0.779\n",
      "Порог = 0.04 | Точность = 0.214, Полнота = 0.989, F1 = 0.352, AUC-ROC = 0.779\n",
      "Порог = 0.06 | Точность = 0.231, Полнота = 0.975, F1 = 0.374, AUC-ROC = 0.779\n",
      "Порог = 0.08 | Точность = 0.254, Полнота = 0.968, F1 = 0.402, AUC-ROC = 0.779\n",
      "Порог = 0.10 | Точность = 0.270, Полнота = 0.924, F1 = 0.418, AUC-ROC = 0.779\n",
      "Порог = 0.12 | Точность = 0.287, Полнота = 0.896, F1 = 0.434, AUC-ROC = 0.779\n",
      "Порог = 0.14 | Точность = 0.311, Полнота = 0.874, F1 = 0.458, AUC-ROC = 0.779\n",
      "Порог = 0.16 | Точность = 0.337, Полнота = 0.827, F1 = 0.479, AUC-ROC = 0.779\n",
      "Порог = 0.18 | Точность = 0.354, Полнота = 0.784, F1 = 0.488, AUC-ROC = 0.779\n",
      "Порог = 0.20 | Точность = 0.368, Полнота = 0.727, F1 = 0.489, AUC-ROC = 0.779\n",
      "Порог = 0.22 | Точность = 0.400, Полнота = 0.701, F1 = 0.509, AUC-ROC = 0.779\n",
      "Порог = 0.24 | Точность = 0.405, Полнота = 0.640, F1 = 0.497, AUC-ROC = 0.779\n",
      "Порог = 0.26 | Точность = 0.424, Полнота = 0.590, F1 = 0.493, AUC-ROC = 0.779\n",
      "Порог = 0.28 | Точность = 0.440, Полнота = 0.554, F1 = 0.490, AUC-ROC = 0.779\n"
     ]
    }
   ],
   "source": [
    "model = LogisticRegression(random_state=12345, solver='lbfgs')\n",
    "model.fit(features_train, target_train)\n",
    "probabilities_valid = model.predict_proba(features_valid)\n",
    "probabilities_one_valid = probabilities_valid[:, 1]\n",
    "\n",
    "for threshold in np.arange(0, 0.3, 0.02):\n",
    "    predicted_valid = probabilities_one_valid > threshold\n",
    "    precision = precision_score(target_valid, predicted_valid)\n",
    "    recall = recall_score(target_valid, predicted_valid)\n",
    "    f1 = f1_score(target_valid, predicted_valid)\n",
    "    auc = roc_auc_score(target_valid, probabilities_one_valid)\n",
    "\n",
    "    print(\"Порог = {:.2f} | Точность = {:.3f}, Полнота = {:.3f}, F1 = {:.3f}, AUC-ROC = {:.3f}\".format(\n",
    "        threshold, precision, recall, f1, auc))"
   ]
  },
  {
   "cell_type": "markdown",
   "id": "40f36ca3",
   "metadata": {},
   "source": [
    "Модель логистической регресси с таким методом балансировки показала наилучший результат F1-меры = 0.509 и AUC-ROC = 0.779 с порогом 0.22, но до нужного значения так и не дотягивает."
   ]
  },
  {
   "cell_type": "markdown",
   "id": "3eebe854",
   "metadata": {},
   "source": [
    "Построим для модели ROC-кривую"
   ]
  },
  {
   "cell_type": "code",
   "execution_count": 69,
   "id": "132e60f2",
   "metadata": {},
   "outputs": [
    {
     "data": {
      "image/png": "[encoded data removed]",
      "text/plain": [
       "<Figure size 720x432 with 1 Axes>"
      ]
     },
     "metadata": {},
     "output_type": "display_data"
    }
   ],
   "source": [
    "fpr, tpr, thresholds = roc_curve(target_valid, probabilities_one_valid)\n",
    "\n",
    "plt.figure()\n",
    "plt.plot(fpr, tpr)\n",
    "plt.plot([0, 1], [0, 1], linestyle='--')\n",
    "\n",
    "plt.xlim(0,1)\n",
    "plt.ylim(0,1)\n",
    "\n",
    "plt.xlabel('False Positive Rate')\n",
    "plt.ylabel('True Positive Rate')\n",
    "\n",
    "plt.title('ROC-кривая')\n",
    "\n",
    "plt.show()"
   ]
  },
  {
   "cell_type": "markdown",
   "id": "28753a49",
   "metadata": {},
   "source": [
    "**Мы перебрали несколько способов балансировки, параметры моделей и выяснили, что лучшей моделью является Случайный лес с методом балансировки class_weight. Результат модели: F1-мера 0.615 AUC-ROC 0.862 Количество деревьев: 30 Глубина: 9**"
   ]
  },
  {
   "cell_type": "markdown",
   "id": "2342e192",
   "metadata": {},
   "source": [
    "## Тестирование модели"
   ]
  },
  {
   "cell_type": "markdown",
   "id": "05098e99",
   "metadata": {},
   "source": [
    "Соединим тестовую и валидационную выборки и заново обучим модель."
   ]
  },
  {
   "cell_type": "code",
   "execution_count": 49,
   "id": "1b32e0dc",
   "metadata": {},
   "outputs": [
    {
     "name": "stdout",
     "output_type": "stream",
     "text": [
      "F1-мера 0.6201550387596899 AUC-ROC 0.8624481630165481 Количество деревьев: 30 Глубина: 9\n"
     ]
    }
   ],
   "source": [
    "best_result_f = 0\n",
    "best_result_auc = 0\n",
    "features_test_valid = pd.concat([features_test, features_valid], ignore_index=True, axis=0)\n",
    "target_test_valid = pd.concat([target_test, target_valid], ignore_index=True, axis=0)\n",
    "\n",
    "for est in range(10, 31, 10):\n",
    "    for depth in range (1, 61):\n",
    "        model = RandomForestClassifier(random_state=12345, n_estimators=est, max_depth=depth, class_weight='balanced')\n",
    "        model.fit(features_train, target_train)\n",
    "        predictions_valid = model.predict(features_test_valid)\n",
    "        result_f = f1_score(target_test_valid, predictions_valid)\n",
    "        result_auc = roc_auc_score(target_valid, model.predict_proba(features_valid)[:, 1])\n",
    "        if result_f > best_result_f:\n",
    "            best_depth = depth\n",
    "            best_est = est\n",
    "            best_result_f = result_f\n",
    "            best_result_auc = result_auc\n",
    "print('F1-мера', best_result_f, 'AUC-ROC', best_result_auc, \"Количество деревьев:\", best_est, \"Глубина:\", best_depth)"
   ]
  },
  {
   "cell_type": "markdown",
   "id": "6ff2771b",
   "metadata": {},
   "source": [
    "### Таким образом, с помощью модели случайного леса мы добились значения F1-меры 0.62 и AUC-ROC 0.86"
   ]
  },
  {
   "cell_type": "markdown",
   "id": "bb387f42",
   "metadata": {},
   "source": [
    "## Вывод"
   ]
  },
  {
   "cell_type": "markdown",
   "id": "5b29e4d5",
   "metadata": {},
   "source": [
    "Перед нами стояла задача построить модель, которая должна спрогнозировать, уйдёт клиент из банка в ближайшее время или нет.\n",
    "\n",
    "Необходимо было построить модель с предельно большим значением F1-меры и довести её до 0.59."
   ]
  },
  {
   "cell_type": "markdown",
   "id": "86bda7a8",
   "metadata": {},
   "source": [
    "Нами были рассмотрены следующие модели:\n",
    "\n",
    "- Логистическая регрессия;\n",
    "- Дерево решений;\n",
    "- Случайный лес.\n",
    "\n",
    "В каждой из моделей были отобраны параметры, которые в совокупность составляли лучшую модель.\n",
    "\n",
    "Далее с отобранными параметрами были протестированы методы борьбы с дисбалансом классов в выборке. Рассматривались следующие методы:\n",
    "\n",
    "- Параметр class_weight='balanced';\n",
    "- Увеличение выборки;\n",
    "- Уменьшение выборки;\n",
    "- Изменение порога.\n",
    "\n",
    "Перебрав большое количество параметров и методов, была найдена лучшая модель.\n",
    "\n",
    "Ею оказалась модель **Случайного леса** с методом балансировки с помощью параметра.\n",
    "\n",
    "Результат модели случайного леса на валидационной выборке: **F1-мера 0.6148648648648649, AUC-ROC 0.8624481630165481**\n",
    "\n",
    "В финальной части проекта данная модель была применена к сложенным тестовой и валидационной выборкам.\n",
    "\n",
    "Результат лучшей модели на суммарных выборках: **F1-мера 0.6201550387596899, AUC-ROC 0.8624481630165481**"
   ]
  }
 ],
 "metadata": {
  "ExecuteTimeLog": [
   {
    "duration": 1562,
    "start_time": "2023-03-10T05:24:50.223Z"
   },
   {
    "duration": 209,
    "start_time": "2023-03-10T05:24:51.788Z"
   },
   {
    "duration": 22,
    "start_time": "2023-03-10T05:24:51.998Z"
   },
   {
    "duration": 15,
    "start_time": "2023-03-10T05:24:52.022Z"
   },
   {
    "duration": 10,
    "start_time": "2023-03-10T05:24:52.039Z"
   },
   {
    "duration": 9,
    "start_time": "2023-03-10T05:24:52.050Z"
   },
   {
    "duration": 18,
    "start_time": "2023-03-10T05:24:52.069Z"
   },
   {
    "duration": 212,
    "start_time": "2023-03-10T05:24:52.089Z"
   },
   {
    "duration": 4,
    "start_time": "2023-03-10T05:24:52.303Z"
   },
   {
    "duration": 203,
    "start_time": "2023-03-10T05:24:52.309Z"
   },
   {
    "duration": 5,
    "start_time": "2023-03-10T05:24:52.514Z"
   },
   {
    "duration": 207,
    "start_time": "2023-03-10T05:24:52.520Z"
   },
   {
    "duration": 305,
    "start_time": "2023-03-10T05:24:52.729Z"
   },
   {
    "duration": 94,
    "start_time": "2023-03-10T05:24:53.037Z"
   },
   {
    "duration": 4,
    "start_time": "2023-03-10T05:24:53.133Z"
   },
   {
    "duration": 124,
    "start_time": "2023-03-10T05:24:53.139Z"
   },
   {
    "duration": 1271,
    "start_time": "2023-03-10T05:24:53.265Z"
   },
   {
    "duration": 6,
    "start_time": "2023-03-10T05:24:54.537Z"
   },
   {
    "duration": 19,
    "start_time": "2023-03-10T05:24:54.544Z"
   },
   {
    "duration": 58428,
    "start_time": "2023-03-10T05:24:54.568Z"
   },
   {
    "duration": 151141,
    "start_time": "2023-03-10T05:25:52.998Z"
   },
   {
    "duration": 33249,
    "start_time": "2023-03-10T05:28:24.141Z"
   },
   {
    "duration": 188,
    "start_time": "2023-03-10T05:28:57.392Z"
   },
   {
    "duration": 26188,
    "start_time": "2023-03-10T05:28:57.582Z"
   },
   {
    "duration": 5280,
    "start_time": "2023-03-10T05:29:23.773Z"
   },
   {
    "duration": 1603,
    "start_time": "2023-03-10T05:29:29.055Z"
   },
   {
    "duration": 67,
    "start_time": "2023-03-10T05:29:30.660Z"
   },
   {
    "duration": 2964,
    "start_time": "2023-03-10T05:29:30.729Z"
   },
   {
    "duration": 10359,
    "start_time": "2023-03-10T05:29:33.772Z"
   },
   {
    "duration": 181,
    "start_time": "2023-03-10T05:29:44.133Z"
   },
   {
    "duration": 7,
    "start_time": "2023-03-10T05:29:44.316Z"
   },
   {
    "duration": 149174,
    "start_time": "2023-03-10T05:29:44.325Z"
   },
   {
    "duration": 43,
    "start_time": "2023-03-10T12:28:51.954Z"
   },
   {
    "duration": 1691,
    "start_time": "2023-03-10T12:28:54.878Z"
   },
   {
    "duration": 97,
    "start_time": "2023-03-10T12:28:56.571Z"
   },
   {
    "duration": 17,
    "start_time": "2023-03-10T12:28:56.670Z"
   },
   {
    "duration": 12,
    "start_time": "2023-03-10T12:28:56.688Z"
   },
   {
    "duration": 11,
    "start_time": "2023-03-10T12:28:56.702Z"
   },
   {
    "duration": 7,
    "start_time": "2023-03-10T12:28:56.715Z"
   },
   {
    "duration": 22,
    "start_time": "2023-03-10T12:28:56.723Z"
   },
   {
    "duration": 189,
    "start_time": "2023-03-10T12:28:56.746Z"
   },
   {
    "duration": 4,
    "start_time": "2023-03-10T12:28:56.937Z"
   },
   {
    "duration": 180,
    "start_time": "2023-03-10T12:28:56.943Z"
   },
   {
    "duration": 9,
    "start_time": "2023-03-10T12:28:57.124Z"
   },
   {
    "duration": 158,
    "start_time": "2023-03-10T12:28:57.134Z"
   },
   {
    "duration": 248,
    "start_time": "2023-03-10T12:28:57.294Z"
   },
   {
    "duration": 4,
    "start_time": "2023-03-10T12:28:57.544Z"
   },
   {
    "duration": 21,
    "start_time": "2023-03-10T12:29:01.696Z"
   },
   {
    "duration": 164,
    "start_time": "2023-03-10T12:32:18.769Z"
   },
   {
    "duration": 221,
    "start_time": "2023-03-10T12:37:59.844Z"
   },
   {
    "duration": 84,
    "start_time": "2023-03-10T12:38:13.171Z"
   },
   {
    "duration": 1530,
    "start_time": "2023-03-10T19:49:09.613Z"
   },
   {
    "duration": 217,
    "start_time": "2023-03-10T19:49:11.147Z"
   },
   {
    "duration": 18,
    "start_time": "2023-03-10T19:49:11.365Z"
   },
   {
    "duration": 13,
    "start_time": "2023-03-10T19:49:11.384Z"
   },
   {
    "duration": 11,
    "start_time": "2023-03-10T19:49:11.399Z"
   },
   {
    "duration": 7,
    "start_time": "2023-03-10T19:49:11.411Z"
   },
   {
    "duration": 24,
    "start_time": "2023-03-10T19:49:11.419Z"
   },
   {
    "duration": 1011,
    "start_time": "2023-03-10T19:49:11.448Z"
   },
   {
    "duration": 256,
    "start_time": "2023-03-10T19:49:12.461Z"
   },
   {
    "duration": 6,
    "start_time": "2023-03-10T19:49:12.719Z"
   },
   {
    "duration": 250,
    "start_time": "2023-03-10T19:49:12.727Z"
   },
   {
    "duration": 6,
    "start_time": "2023-03-10T19:49:12.979Z"
   },
   {
    "duration": 157,
    "start_time": "2023-03-10T19:49:12.986Z"
   },
   {
    "duration": 15,
    "start_time": "2023-03-10T19:49:13.146Z"
   },
   {
    "duration": 20,
    "start_time": "2023-03-10T19:49:13.162Z"
   },
   {
    "duration": 107,
    "start_time": "2023-03-10T19:50:31.470Z"
   },
   {
    "duration": 3,
    "start_time": "2023-03-10T19:50:35.101Z"
   },
   {
    "duration": 90,
    "start_time": "2023-03-10T19:50:35.106Z"
   },
   {
    "duration": 13,
    "start_time": "2023-03-10T19:50:35.198Z"
   },
   {
    "duration": 15,
    "start_time": "2023-03-10T19:50:35.214Z"
   },
   {
    "duration": 8,
    "start_time": "2023-03-10T19:50:35.230Z"
   },
   {
    "duration": 9,
    "start_time": "2023-03-10T19:50:35.240Z"
   },
   {
    "duration": 28,
    "start_time": "2023-03-10T19:50:35.251Z"
   },
   {
    "duration": 1013,
    "start_time": "2023-03-10T19:50:35.280Z"
   },
   {
    "duration": 192,
    "start_time": "2023-03-10T19:50:36.295Z"
   },
   {
    "duration": 7,
    "start_time": "2023-03-10T19:50:36.488Z"
   },
   {
    "duration": 227,
    "start_time": "2023-03-10T19:50:36.496Z"
   },
   {
    "duration": 6,
    "start_time": "2023-03-10T19:50:36.725Z"
   },
   {
    "duration": 147,
    "start_time": "2023-03-10T19:50:36.749Z"
   },
   {
    "duration": 11,
    "start_time": "2023-03-10T19:50:36.898Z"
   },
   {
    "duration": 36,
    "start_time": "2023-03-10T19:50:36.911Z"
   },
   {
    "duration": 12,
    "start_time": "2023-03-10T19:50:36.950Z"
   },
   {
    "duration": 3,
    "start_time": "2023-03-10T19:50:36.964Z"
   },
   {
    "duration": 24,
    "start_time": "2023-03-10T19:50:36.969Z"
   },
   {
    "duration": 15,
    "start_time": "2023-03-10T19:50:36.994Z"
   },
   {
    "duration": 5,
    "start_time": "2023-03-10T19:51:47.009Z"
   },
   {
    "duration": 4,
    "start_time": "2023-03-10T19:51:52.094Z"
   },
   {
    "duration": 78,
    "start_time": "2023-03-10T19:51:52.100Z"
   },
   {
    "duration": 14,
    "start_time": "2023-03-10T19:51:52.180Z"
   },
   {
    "duration": 12,
    "start_time": "2023-03-10T19:51:52.196Z"
   },
   {
    "duration": 7,
    "start_time": "2023-03-10T19:51:52.210Z"
   },
   {
    "duration": 7,
    "start_time": "2023-03-10T19:51:52.219Z"
   },
   {
    "duration": 37,
    "start_time": "2023-03-10T19:51:52.227Z"
   },
   {
    "duration": 1205,
    "start_time": "2023-03-10T19:51:52.265Z"
   },
   {
    "duration": 206,
    "start_time": "2023-03-10T19:51:53.472Z"
   },
   {
    "duration": 7,
    "start_time": "2023-03-10T19:51:53.679Z"
   },
   {
    "duration": 280,
    "start_time": "2023-03-10T19:51:53.688Z"
   },
   {
    "duration": 7,
    "start_time": "2023-03-10T19:51:53.970Z"
   },
   {
    "duration": 188,
    "start_time": "2023-03-10T19:51:53.978Z"
   },
   {
    "duration": 10,
    "start_time": "2023-03-10T19:51:54.168Z"
   },
   {
    "duration": 14,
    "start_time": "2023-03-10T19:51:54.179Z"
   },
   {
    "duration": 4,
    "start_time": "2023-03-10T19:51:54.194Z"
   },
   {
    "duration": 41,
    "start_time": "2023-03-10T19:51:54.199Z"
   },
   {
    "duration": 39,
    "start_time": "2023-03-10T19:51:54.242Z"
   },
   {
    "duration": 5,
    "start_time": "2023-03-10T19:51:54.282Z"
   },
   {
    "duration": 8,
    "start_time": "2023-03-10T19:51:54.288Z"
   },
   {
    "duration": 711,
    "start_time": "2023-03-10T19:51:54.298Z"
   },
   {
    "duration": 6,
    "start_time": "2023-03-10T19:51:55.011Z"
   },
   {
    "duration": 3744,
    "start_time": "2023-03-10T19:51:55.018Z"
   },
   {
    "duration": 24402,
    "start_time": "2023-03-10T19:51:58.763Z"
   },
   {
    "duration": 794,
    "start_time": "2023-03-10T19:52:23.167Z"
   },
   {
    "duration": 11,
    "start_time": "2023-03-10T19:52:23.963Z"
   },
   {
    "duration": 982,
    "start_time": "2023-03-10T19:52:23.975Z"
   },
   {
    "duration": 556,
    "start_time": "2023-03-10T19:52:24.959Z"
   },
   {
    "duration": 70,
    "start_time": "2023-03-10T19:52:25.519Z"
   },
   {
    "duration": 10,
    "start_time": "2023-03-10T19:52:25.590Z"
   },
   {
    "duration": 251,
    "start_time": "2023-03-10T19:52:25.602Z"
   },
   {
    "duration": 541,
    "start_time": "2023-03-10T19:52:25.855Z"
   },
   {
    "duration": 176,
    "start_time": "2023-03-10T19:52:26.397Z"
   },
   {
    "duration": 24780,
    "start_time": "2023-03-10T19:52:26.575Z"
   }
  ],
  "kernelspec": {
   "display_name": "Python 3 (ipykernel)",
   "language": "python",
   "name": "python3"
  },
  "language_info": {
   "codemirror_mode": {
    "name": "ipython",
    "version": 3
   },
   "file_extension": ".py",
   "mimetype": "text/x-python",
   "name": "python",
   "nbconvert_exporter": "python",
   "pygments_lexer": "ipython3",
   "version": "3.9.13"
  },
  "toc": {
   "base_numbering": 1,
   "nav_menu": {},
   "number_sections": true,
   "sideBar": true,
   "skip_h1_title": true,
   "title_cell": "Table of Contents",
   "title_sidebar": "Contents",
   "toc_cell": false,
   "toc_position": {},
   "toc_section_display": true,
   "toc_window_display": false
  }
 },
 "nbformat": 4,
 "nbformat_minor": 5
}
